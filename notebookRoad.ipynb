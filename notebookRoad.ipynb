{
 "cells": [
  {
   "cell_type": "markdown",
   "source": [
    "# Analyzing the Road Accidents Data In Kenay for the Years 2016 and 2017 \r\n",
    "## The libraries needed "
   ],
   "metadata": {}
  },
  {
   "cell_type": "code",
   "execution_count": null,
   "source": [
    "using DataFrames\r\n",
    "using XLSX\r\n",
    "using FloatingTableView\r\n",
    "using Dates\r\n",
    "using Plots\r\n",
    "using HypothesisTests\r\n",
    "using Distributions\r\n",
    "using VegaLite\r\n",
    "\r\n",
    "include(\"libraries.jl\")"
   ],
   "outputs": [],
   "metadata": {}
  },
  {
   "cell_type": "markdown",
   "source": [
    "# Read in the Data"
   ],
   "metadata": {}
  },
  {
   "cell_type": "code",
   "execution_count": null,
   "source": [
    "roadData2016 = DataFrame(XLSX.readtable(\"kenya-accidents-database.xlsx\",\"2016\",infer_eltypes=true)...)\r\n",
    "roadData2017 = DataFrame(XLSX.readtable(\"kenya-accidents-database.xlsx\",\"2017\",infer_eltypes=true)...)\r\n"
   ],
   "outputs": [],
   "metadata": {}
  },
  {
   "cell_type": "markdown",
   "source": [
    "# Data Cleaning "
   ],
   "metadata": {}
  },
  {
   "cell_type": "code",
   "execution_count": null,
   "source": [
    "# 1.) Unify the column names to be able to merge the data \r\n",
    "cols1 = names(roadData2016)\r\n",
    "cols2 = names(roadData2017)\r\n",
    "\r\n",
    "diffCols = cols2[cols2 .∉ Ref(cols1)]\r\n",
    "upDateRoadData2017 = select(roadData2017,Not(diffCols))\r\n",
    "finalRoadData = vcat(roadData2016,upDateRoadData2017)\r\n",
    "\r\n",
    "# 2.) Check the data types to be correct and drop all missing values\r\n",
    "eltype.(eachcol(finalRoadData))\r\n",
    "filter(ismissing,finalRoadData[:,Symbol(\"TIME 24 HOURS\")])  \r\n",
    "finalRoadData = dropmissing(finalRoadData) "
   ],
   "outputs": [],
   "metadata": {}
  },
  {
   "cell_type": "code",
   "execution_count": null,
   "source": [
    "# 3.) Clean up time column and convert it to julia's type Time\r\n",
    "\r\n",
    "\"\"\"\r\n",
    "a.) conversion function to time\r\n",
    "\"\"\"\r\n",
    "toTimeConverter(x::Integer) = Time(divrem(x, 100)...)\r\n",
    "\r\n",
    "\"\"\"\r\n",
    "b.)Remove String/Characters in the time col\r\n",
    "\"\"\"\r\n",
    "\r\n",
    "function removeUnwantedChar(input::Any)\r\n",
    "    reducedStr = \r\n",
    "        if length(input) > 4\r\n",
    "            deleteat!(collect(input),5:length(input)) |> String\r\n",
    "        elseif occursin(\"H\",string(input))\r\n",
    "            idx = findfirst(\"H\",input)\r\n",
    "            deleteat!(collect(input),idx) |> String\r\n",
    "        else\r\n",
    "           input\r\n",
    "        end\r\n",
    "      return reducedStr\r\n",
    "end\r\n",
    "  \r\n",
    "\r\n",
    "finalRoadData[!,Symbol(\"TIME 24 HOURS\")]  = ifelse.(finalRoadData[:,Symbol(\"TIME 24 HOURS\")] .== \"UNKNOWN TIME\", \"0000\", finalRoadData[:,Symbol(\"TIME 24 HOURS\")])\r\n",
    "finalRoadData[!,Symbol(\"TIME 24 HOURS\")]  = ifelse.(finalRoadData[:,Symbol(\"TIME 24 HOURS\")] .== \"UNKNOWN\", \"0000\", finalRoadData[:,Symbol(\"TIME 24 HOURS\")])\r\n",
    "finalRoadData[!,Symbol(\"TIME 24 HOURS\")]  = removeUnwantedChar.(finalRoadData[!,Symbol(\"TIME 24 HOURS\")])\r\n",
    "finalRoadData[!,Symbol(\"TIME 24 HOURS\")] = [x isa AbstractString ? parse(Int, x) : Int(x) for x in finalRoadData[!,:1]]\r\n",
    "finalRoadData[!,Symbol(\"TIME 24 HOURS\")] = toTimeConverter.(finalRoadData[:,:1]) "
   ],
   "outputs": [],
   "metadata": {}
  },
  {
   "cell_type": "code",
   "execution_count": null,
   "source": [
    "#4.) Renaming the columns to better names \r\n",
    "\r\n",
    "newColNames = [:Time,:subCounty,:County,:Road,:Place,:Details,:Gender,:Age,:CauseCode,:Victim,:Number,:Date]\r\n",
    "finalRoadData = rename(finalRoadData,names(finalRoadData) .=> newColNames)"
   ],
   "outputs": [],
   "metadata": {}
  },
  {
   "cell_type": "markdown",
   "source": [
    "# Data Crunching\r\n",
    "## 1.) analyze accidents by time of occurance"
   ],
   "metadata": {}
  },
  {
   "cell_type": "code",
   "execution_count": null,
   "source": [
    "# a.) analyze by Hour \r\n",
    "accidentByHour = \r\n",
    "         finalRoadData |> \r\n",
    "         finalRoadData -> combine(groupby(transform(finalRoadData,[:Time,:Date] .=> [ByRow(hour),ByRow(year)]),\r\n",
    "                                  [:Time_hour]),:Time_hour .=> length => :accidentsByHour) \r\n",
    "               \r\n",
    "\r\n",
    "Plots.bar(accidentByHour[:,:Time_hour],\r\n",
    "        accidentByHour[:,:accidentsByHour],\r\n",
    "        title  = \"Number of Accidents Per Hour in 2016/2017\",\r\n",
    "        xlabel = \"Hour\",\r\n",
    "        ylabel = \"Count Price\",\r\n",
    "        label=\"NumberOfAccidents\",\r\n",
    "        size = (1000,500),\r\n",
    "        legend = :outertopright)\r\n"
   ],
   "outputs": [],
   "metadata": {}
  },
  {
   "cell_type": "code",
   "execution_count": null,
   "source": [
    "# b.) Analyze by Month\r\n",
    "accidentsByMonth = \r\n",
    "        finalRoadData |> \r\n",
    "        finalRoadData -> combine(groupby(transform(finalRoadData,[:Date,:Time] .=> [ByRow(month),ByRow(hour)]),\r\n",
    "                         [:Date_month,:Time_hour]),:Date_month .=> length => :monthlyHourlyAccidents)                     \r\n",
    "\r\n",
    "data2 = accidentsByMonth[:,:1]\r\n",
    "df2 = DataFrame(map(idx -> getindex.(data2, idx), eachindex(first(data2))),:auto)\r\n",
    "df2.date = map(x-> Date.(Month(x)), df2.x1)\r\n",
    "df2.month = map(y-> Dates.monthname.(Date.(Month(y))), df2.x1) \r\n",
    "cleanMonthlyData = hcat(df2[:,[:3]],accidentsByMonth[:,:2:end])\r\n",
    "\r\n",
    "cleanMonthlyData |>\r\n",
    "    @vlplot(\r\n",
    "        title=\"Total Accidents By Month and Hour\",\r\n",
    "        :rect,\r\n",
    "        x={\r\n",
    "            \"Time_hour:o\",            \r\n",
    "            title=\"hour\",            \r\n",
    "        },\r\n",
    "        y={\r\n",
    "            \"month:o\",          \r\n",
    "            title=\"Month\"\r\n",
    "        },width=800,height=700,\r\n",
    "        color={\r\n",
    "            \"monthlyHourlyAccidents:q\",\r\n",
    "            aggregate=\"sum\",\r\n",
    "            legend={title=nothing}\r\n",
    "        },\r\n",
    "        config={\r\n",
    "            view={\r\n",
    "                strokeWidth=0,\r\n",
    "                step=13\r\n",
    "            },\r\n",
    "            axis={\r\n",
    "                domain=false\r\n",
    "            }\r\n",
    "        }\r\n",
    "    )\r\n"
   ],
   "outputs": [],
   "metadata": {}
  },
  {
   "cell_type": "code",
   "execution_count": null,
   "source": [
    "# c.) Analyze by Day and Hour\r\n",
    "accidentsByDayAndHr = \r\n",
    "        finalRoadData |> \r\n",
    "        finalRoadData -> combine(groupby(transform(finalRoadData,[:Date,:Time] .=> [ByRow(dayname),ByRow(hour)]),\r\n",
    "                         [:Date_dayname,:Time_hour]),:Date_dayname .=> length => :monthlyHourlyAccidents)\r\n",
    "\r\n",
    "accidentsByDayAndHr |>\r\n",
    "    @vlplot(\r\n",
    "        :circle,\r\n",
    "        y=\"Date_dayname:o\",\r\n",
    "        x=\"Time_hour:o\",\r\n",
    "        size=\"sum(monthlyHourlyAccidents)\",\r\n",
    "        width=600,height=600\r\n",
    "    )"
   ],
   "outputs": [],
   "metadata": {}
  },
  {
   "cell_type": "markdown",
   "source": [
    "# Statistical Test \r\n",
    "\r\n",
    "## conduct the kruskal wallis test This is done to test for seasonality \r\n",
    "\r\n",
    "### H₀ : The distribution of the nummber of accidents are the same for each hour of the day(i.e the time of the day does not affect the number of accidents) \r\n",
    "### H₁ : There are hours during the day for which the distribution of the number of accidents differ significatly\r\n",
    "\r\n"
   ],
   "metadata": {}
  },
  {
   "cell_type": "code",
   "execution_count": null,
   "source": [
    "grps = accidentByHour[:,:Time_hour]\r\n",
    "values = accidentByHour[:,:accidentsByHour]\r\n",
    "kWallisRes = KruskalWallisTest(grps,values)"
   ],
   "outputs": [],
   "metadata": {}
  },
  {
   "cell_type": "markdown",
   "source": [
    "# 2.) Analyze the Number of accidents by County and Sub County"
   ],
   "metadata": {}
  },
  {
   "cell_type": "code",
   "execution_count": null,
   "source": [
    "#a.)Analysis by county \r\n",
    "finalRoadData[!,:County] = lowercase.(finalRoadData[!,:County]) |> x -> uppercasefirst.(x)\r\n",
    "\r\n",
    "noOfAccidentsByCounty = \r\n",
    "    finalRoadData |>\r\n",
    "    finalRoadData -> combine(groupby(finalRoadData,:County),:County .=> length .=> :accidentsByCounty) |>\r\n",
    "    finalRoadData -> sort(finalRoadData,:2,rev = true) |>\r\n",
    "    finalRoadData -> first(finalRoadData,10)\r\n",
    "\r\n",
    "noOfAccidentsByCounty |> @vlplot(:bar,y=:County,x=:accidentsByCounty,width=700,height=500)\r\n"
   ],
   "outputs": [],
   "metadata": {}
  },
  {
   "cell_type": "code",
   "execution_count": null,
   "source": [
    "#b.) Analysis by SubCounty\r\n",
    "\r\n",
    "accidentsBySubCounty = \r\n",
    "    finalRoadData |>\r\n",
    "    finalRoadData -> filter(:County => ==(\"Nairobi\"),finalRoadData)|>\r\n",
    "    finalRoadData -> combine(groupby(finalRoadData,:2),:2 .=> length => :accidentsBySubCounty) |>\r\n",
    "    finalRoadData -> sort(finalRoadData,:2,rev = true) \r\n",
    "    \r\n",
    "accidentsBySubCounty |>\r\n",
    "    @vlplot(\r\n",
    "        height={step=12},\r\n",
    "        :bar,\r\n",
    "        transform=[\r\n",
    "            {\r\n",
    "                window=[{op=\"sum\",field=\"accidentsBySubCounty\",as=\"totalAcidents\"}],\r\n",
    "                frame=[nothing,nothing]\r\n",
    "            },\r\n",
    "            {\r\n",
    "                calculate=\"datum.accidentsBySubCounty/datum.totalAcidents * 100\",\r\n",
    "                as=\"PercentOfTotal\"\r\n",
    "            },\r\n",
    "            {\r\n",
    "            window=[{ op=\"rank\", as=\"rank\" }],\r\n",
    "            sort=[{ field=\"accidentsBySubCounty\", order=\"descending\" }]\r\n",
    "            },\r\n",
    "             {filter=\"datum.rank <= 10\"}\r\n",
    "        ],\r\n",
    "        x={\"PercentOfTotal:q\", axis={title=\"% of total Time\"}},\r\n",
    "        y={\"subCounty:n\"},\r\n",
    "        width=700,height=500\r\n",
    "    )\r\n"
   ],
   "outputs": [],
   "metadata": {}
  },
  {
   "cell_type": "code",
   "execution_count": null,
   "source": [
    "# c.) Narrow Down to details i.e cause of the accidents in the various sub county \r\n",
    "\r\n",
    "finalRoadData[!,:Details] = replace.(finalRoadData[:,:Details], \"&\" .=> \"AND\")\r\n",
    "finalRoadData[!,:Details] = replace.(finalRoadData[:,:Details], \"HIT AND RAN\" .=> \"HIT AND RUN\")\r\n",
    "finalRoadData[!,:Details] = lowercase.(finalRoadData[!,:Details]) |> x -> uppercasefirst.(x)\r\n",
    "\r\n",
    "selectedSubCounties = first(accidentsBySubCounty,10) |> local data -> data[:,:subCounty]\r\n",
    "\r\n",
    "noOfAccidentsByDetails = \r\n",
    "    finalRoadData |>\r\n",
    "    finalRoadData -> filter(:County => ==(\"Nairobi\"),finalRoadData)|>\r\n",
    "    finalRoadData -> filter(x -> x.subCounty in selectedSubCounties, finalRoadData) |>\r\n",
    "    finalRoadData -> combine(groupby(finalRoadData,[:subCounty,:Details]),:Details .=> length .=> :NoByDetails) |>\r\n",
    "    finalRoadData -> sort(finalRoadData,[:1,:3],rev = (true,true)) \r\n",
    "    #finalRoadData -> first(finalRoadData,20)\r\n",
    "\r\n",
    "noOfAccidentsByDetails |>\r\n",
    "    @vlplot(:bar, x=\"NoByDetails\", y=:subCounty, color=:Details)\r\n"
   ],
   "outputs": [],
   "metadata": {}
  },
  {
   "cell_type": "code",
   "execution_count": null,
   "source": [
    "# d.) By County and Details Focusing on the average number of accidents by details\r\n",
    "countyAndDetails = \r\n",
    "    finalRoadData |>\r\n",
    "    finalRoadData -> filter(:County => ==(\"Nairobi\"),finalRoadData)|>\r\n",
    "    finalRoadData -> combine(groupby(finalRoadData,:Details),:Details .=> length .=> :ByDetails) |>\r\n",
    "    finalRoadData -> sort(finalRoadData,:2,rev = true) |>\r\n",
    "    finalRoadData -> first(finalRoadData,10) \r\n",
    "\r\n",
    "countyAndDetails |>\r\n",
    "    @vlplot(\r\n",
    "        transform=[\r\n",
    "            {filter=\"datum.ByDetails != null\"},\r\n",
    "            {\r\n",
    "                joinaggregate= [{\r\n",
    "                    op=:mean,\r\n",
    "                    field=:ByDetails,\r\n",
    "                    as=\"AverageAccidents\"\r\n",
    "                }]\r\n",
    "            }           \r\n",
    "        ]\r\n",
    "    ) +\r\n",
    "    @vlplot(\r\n",
    "        :bar,\r\n",
    "        x={\"ByDetails:q\",axis={title=\"Number Of Accidnets\"}},width=800,height=500,\r\n",
    "        y={\"Details:o\"}\r\n",
    "    ) +\r\n",
    "    @vlplot(\r\n",
    "        mark={\r\n",
    "            :rule,\r\n",
    "            color=\"red\"\r\n",
    "        },\r\n",
    "        x={\"AverageAccidents:q\", aggregate=\"average\"}\r\n",
    "    )\r\n",
    "\r\n"
   ],
   "outputs": [],
   "metadata": {}
  },
  {
   "cell_type": "markdown",
   "source": [
    "# 4.) Analyze the Number of accidents by Road"
   ],
   "metadata": {}
  },
  {
   "cell_type": "code",
   "execution_count": null,
   "source": [
    "#a.) by Road count\r\n",
    "finalRoadData[!,:Road] = replace.(finalRoadData[!,:Road], \"-\" .=> \" \", count=1)\r\n",
    "\r\n",
    "noOfAccidentsByRoad = \r\n",
    "    finalRoadData |>\r\n",
    "    finalRoadData -> combine(groupby(finalRoadData,:Road),:Road .=> length .=> :accidentsByRoad) |>\r\n",
    "    finalRoadData -> sort(finalRoadData,:2,rev = true)\r\n",
    "   \r\n",
    "\r\n",
    "noOfAccidentsByRoad |>\r\n",
    "    @vlplot(\r\n",
    "        title=\"Number of Accidents By Road\",\r\n",
    "        transform=[\r\n",
    "            {\r\n",
    "                aggregate=[{op=\"mean\",field=\"accidentsByRoad\",as=\"aggregate_accidents\"}],\r\n",
    "                groupby=[\"Road\"]\r\n",
    "            },\r\n",
    "            {\r\n",
    "                window=[{op=\"row_number\", as=\"rank\"}],\r\n",
    "                sort=[{field=\"aggregate_accidents\",order=\"descending\"}]\r\n",
    "            },\r\n",
    "            {\r\n",
    "                calculate=\"datum.rank < 10 ? datum.Road : 'All Others'\", as=\"ranked_ByRoad\"\r\n",
    "            }\r\n",
    "        ],\r\n",
    "        :bar,\r\n",
    "        x={aggregate=\"mean\",\"aggregate_accidents:q\",title=nothing},width=800,height=500,\r\n",
    "        y={\r\n",
    "            sort={op=\"mean\",field=\"aggregate_accidents\",order=\"descending\"},\r\n",
    "            \"ranked_ByRoad:o\",\r\n",
    "            title=nothing\r\n",
    "        }\r\n",
    "    )\r\n"
   ],
   "outputs": [],
   "metadata": {}
  },
  {
   "cell_type": "code",
   "execution_count": null,
   "source": [
    "# b.) By Road and details\r\n",
    "noOfAccidentsByRoadAndDetail = \r\n",
    "    finalRoadData |>\r\n",
    "    finalRoadData -> filter(:Road => in(Set([\"NAIROBI MOMBASA\",\"MOMBASA NAIROBI\"])),finalRoadData)|>\r\n",
    "    finalRoadData -> combine(groupby(finalRoadData,[:Details]),:Details => length .=> :accidentsByRoadAndDetails) |>\r\n",
    "    finalRoadData -> sort(finalRoadData,:2,rev = true)|>\r\n",
    "    finalRoadData -> first(finalRoadData,10)\r\n",
    "    \r\n",
    "noOfAccidentsByRoadAndDetail |>\r\n",
    "    @vlplot(\r\n",
    "        width=200,\r\n",
    "        height={step=16},\r\n",
    "        y={:Details,axis=nothing},width=800,height=800\r\n",
    "    ) +\r\n",
    "    @vlplot(\r\n",
    "        mark={:bar,color=\"#e7ba52\"},\r\n",
    "        x={\"accidentsByRoadAndDetails\",axis={title=\"accidents By Road And Details\"},scale={domain=[0,100]}},           \r\n",
    "    ) +\r\n",
    "    @vlplot(\r\n",
    "        mark={:text,align=\"left\",x=5},\r\n",
    "        text=\"Details:n\"\r\n",
    "        #detail={aggregate=\"count\",type=\"quantitative\"}\r\n",
    "    )\r\n"
   ],
   "outputs": [],
   "metadata": {}
  },
  {
   "cell_type": "markdown",
   "source": [
    "# 5.) Anyze the Number of occurences by the Victims"
   ],
   "metadata": {}
  },
  {
   "cell_type": "code",
   "execution_count": null,
   "source": [
    "noOfAccidentsByVictim = \r\n",
    "    finalRoadData |>\r\n",
    "    finalRoadData -> combine(groupby(finalRoadData,:Victim),:Victim .=> length .=> :accidentsByVictims) |>\r\n",
    "    finalRoadData -> sort(finalRoadData,:2,rev = true) |>\r\n",
    "    finalRoadData -> first(finalRoadData,5)\r\n",
    "\r\n",
    "labels = noOfAccidentsByVictim[:,:Victim]\r\n",
    "noOfAccidentsPerVictim = noOfAccidentsByVictim[:,:accidentsByVictims]\r\n",
    "\r\n",
    "###############\r\n",
    "p = PyPlot.pie(noOfAccidentsPerVictim,\r\n",
    "                labels=labels,\r\n",
    "                shadow=true,\r\n",
    "                startangle=90,\r\n",
    "                autopct=\"%1.1f%%\")\t\t\r\n",
    "title(\"Total Accidents Per Victim\")\r\n",
    "figure(\"pyplot_piechart\",figsize=(10,10))"
   ],
   "outputs": [],
   "metadata": {}
  },
  {
   "cell_type": "markdown",
   "source": [
    "# 6.) Anzye By the Age Group and Gender"
   ],
   "metadata": {}
  },
  {
   "cell_type": "code",
   "execution_count": null,
   "source": [
    "map(eachrow(finalRoadData)) do r\r\n",
    "    if r.Gender .== \"M\" \r\n",
    "       r.Gender = 1\r\n",
    "    elseif r.Gender .== \"F\"\r\n",
    "           r.Gender = 2\r\n",
    "    else\r\n",
    "         r.Gender = 3\r\n",
    "    end\r\n",
    "end\r\n",
    "\r\n",
    "accidentByGender = \r\n",
    "    finalRoadData |>    \r\n",
    "    finalRoadData -> combine(groupby(finalRoadData,:Gender),:Gender .=> length => :accidentsByGender)  \r\n",
    "\r\n"
   ],
   "outputs": [],
   "metadata": {}
  },
  {
   "cell_type": "code",
   "execution_count": null,
   "source": [
    "#Calculate the relative risk of which geneder is more exposed to accidents\r\n",
    "finalRoadData[!, :AgeGroup] = Vector{Union{String, Nothing}}(nothing, size(finalRoadData, 1))\r\n",
    "\r\n",
    "map(eachrow(finalRoadData)) do r\r\n",
    "\r\n",
    "    if r.Age in 16:19  \r\n",
    "       r.AgeGroup = \"16-19\"\r\n",
    "\r\n",
    "    elseif r.Age in 20:24 \r\n",
    "           r.AgeGroup = \"20-24\"\r\n",
    "\r\n",
    "    elseif r.Age in 25:29 \r\n",
    "           r.AgeGroup = \"25-29\"\r\n",
    "\r\n",
    "    elseif r.Age in 30:34 \r\n",
    "           r.AgeGroup = \"30-34\"\r\n",
    "\r\n",
    "    elseif r.Age in 35:39 \r\n",
    "           r.AgeGroup = \"35-39\"\r\n",
    "\r\n",
    "    elseif r.Age in 40:44 \r\n",
    "           r.AgeGroup = \"40-44\"\r\n",
    "\r\n",
    "    elseif r.Age in 45:49 \r\n",
    "           r.AgeGroup = \"45-49\"\r\n",
    "\r\n",
    "    elseif r.Age in 50:54 \r\n",
    "           r.AgeGroup = \"50-54\"\r\n",
    "\r\n",
    "    elseif r.Age in 55:59 \r\n",
    "           r.AgeGroup = \"55-59\"\r\n",
    "\r\n",
    "    elseif r.Age in 60:64 \r\n",
    "           r.AgeGroup = \"60-64\"\r\n",
    "\r\n",
    "    elseif r.Age in 65:69 \r\n",
    "           r.AgeGroup = \"65-69\"\r\n",
    "\r\n",
    "    elseif r.Age in 70:100 \r\n",
    "           r.AgeGroup = \"70-100\"\r\n",
    "\r\n",
    "    else\r\n",
    "         r.AgeGroup = \"Other\"\r\n",
    "    end\r\n",
    "end\r\n",
    "\r\n",
    "accidentByAge = \r\n",
    "    finalRoadData |>    \r\n",
    "    finalRoadData -> combine(groupby(finalRoadData,[:AgeGroup]),:AgeGroup .=> length => :accidentsByAge) \r\n",
    "\r\n",
    "accidentByAge |>\r\n",
    "    @vlplot(\r\n",
    "        :line,\r\n",
    "        transform=[\r\n",
    "            {filter=\"datum.AgeGroup !=='Other'\"}\r\n",
    "        ],\r\n",
    "        x=:AgeGroup,\r\n",
    "        y=:accidentsByAge\r\n",
    "    )"
   ],
   "outputs": [],
   "metadata": {}
  },
  {
   "cell_type": "code",
   "execution_count": null,
   "source": [
    "accidentByAgeAndGender = \r\n",
    "    finalRoadData |>    \r\n",
    "    finalRoadData -> combine(groupby(finalRoadData,[:AgeGroup,:Gender]),:AgeGroup .=> length => :accidentsByAgeGender) \r\n",
    "\r\n",
    "accidentByAgeAndGender |>\r\n",
    "    @vlplot(\r\n",
    "        :line,\r\n",
    "        transform=[\r\n",
    "            {filter=\"datum.AgeGroup !=='Other'\"}\r\n",
    "               ],\r\n",
    "        x=:AgeGroup,\r\n",
    "        y=:accidentsByAgeGender,\r\n",
    "        color=:Gender\r\n",
    "    )"
   ],
   "outputs": [],
   "metadata": {}
  },
  {
   "cell_type": "markdown",
   "source": [
    "# PREDICTIBE ANALYTICS USING REGRESSION  "
   ],
   "metadata": {}
  },
  {
   "cell_type": "code",
   "execution_count": null,
   "source": [
    "# a.) Get the data \r\n",
    "regressionData = \r\n",
    "    finalRoadData |>\r\n",
    "    finalRoadData -> select(finalRoadData,[:Time,:County,:AgeGroup,:Gender]) |>\r\n",
    "    finalRoadData -> transform(finalRoadData,:Time =>  ByRow(hour),renamecols = false) \r\n",
    "    "
   ],
   "outputs": [],
   "metadata": {}
  },
  {
   "cell_type": "code",
   "execution_count": null,
   "source": [
    "# b.) Create helper functions \r\n",
    "\r\n",
    "function ConvertData(data::DataFrame,ColName::String)      \r\n",
    "    index = findfirst(names(data) .== ColName)\r\n",
    " \r\n",
    "    uniqueVar = unique(data[:,index])\r\n",
    "    n = Float64.(collect(1:length(uniqueVar)))\r\n",
    "    dict_info = Dict(map((x,y) -> (x,y),uniqueVar,n))\r\n",
    "    data[!,:newCol] = Vector{Union{Int64, Nothing}}(nothing, size(data, 1))\r\n",
    "\r\n",
    "    for (v,service) in enumerate(data[:,index])\r\n",
    "            data[v,:newCol]= dict_info[service]\r\n",
    "         end\r\n",
    "\r\n",
    "    omitStringCol = select(data,Not(ColName))\r\n",
    "    rename!(omitStringCol,:newCol => ColName)\r\n",
    "    \r\n",
    "    return omitStringCol,dict_info\r\n",
    "end\r\n",
    "\r\n",
    "\r\n",
    "function splitdf(df, pct)\r\n",
    "    @assert 0 <= pct <= 1\r\n",
    "    ids = collect(axes(df, 1))\r\n",
    "    shuffle!(ids)\r\n",
    "    sel = ids .<= nrow(df) .* pct\r\n",
    "    trainset =   [df, sel, :]\r\n",
    "    testset =  [df, .!sel, :]\r\n",
    "    return trainset[1],testset[1]\r\n",
    "end\r\n"
   ],
   "outputs": [],
   "metadata": {}
  },
  {
   "cell_type": "code",
   "execution_count": null,
   "source": [
    "# c.) Create and Run the model\r\n",
    "\r\n",
    "regressionDataUp,countyCodeKey =  ConvertData(regressionData,\"County\")\r\n",
    "regressionDataUp2,ageGroupKeys =  ConvertData(regressionDataUp,\"AgeGroup\")\r\n",
    "\r\n",
    "transform!(regressionDataUp2,names(regressionDataUp2) .=> ByRow(Float64),renamecols=false)\r\n",
    "train,test =  splitdf(regressionDataUp2, 0.7)\r\n",
    "\r\n",
    "ols = lm(@formula(Gender ~ Time + AgeGroup + County), train)\r\n",
    "ols"
   ],
   "outputs": [],
   "metadata": {}
  },
  {
   "cell_type": "code",
   "execution_count": null,
   "source": [
    "# d) Try Generalized linear models\r\n",
    "\r\n",
    "glm = fit(GeneralizedLinearModel, @formula(Gender ~ County+Time+AgeGroup), train, NegativeBinomial(2.0), LogLink())\r\n",
    " \r\n",
    "dof(glm)\r\n",
    "deviance(glm)\r\n",
    "aic(glm)\r\n",
    "bic(glm)\r\n",
    "coef(glm)[1:4]\r\n",
    "glm"
   ],
   "outputs": [],
   "metadata": {}
  },
  {
   "cell_type": "markdown",
   "source": [
    "# Data To FSharp For SSA to predict the time series"
   ],
   "metadata": {}
  },
  {
   "cell_type": "code",
   "execution_count": null,
   "source": [
    "toTimeSeriesData = \r\n",
    "     finalRoadData|>\r\n",
    "     finalRoadData -> combine(groupby(finalRoadData,[:Date]),:Date .=> length => :noOfAccidents) \r\n",
    "\r\n",
    "toTimeSeriesData[!,:noOfAccidents] = Float64.(toTimeSeriesData[:,:noOfAccidents])\r\n",
    "\r\n",
    "CSV.write(\"D://Projects//Machine Learning Exploration//Analytics and MachineLearning//toTimeSeriesData.csv\",toTimeSeriesData)"
   ],
   "outputs": [],
   "metadata": {}
  }
 ],
 "metadata": {
  "orig_nbformat": 4,
  "language_info": {
   "name": "julia",
   "version": "1.6.1",
   "mimetype": "application/julia",
   "file_extension": ".jl"
  },
  "kernelspec": {
   "display_name": "Julia 1.6.1",
   "language": "julia",
   "name": "julia-1.6"
  }
 },
 "nbformat": 4,
 "nbformat_minor": 2
}